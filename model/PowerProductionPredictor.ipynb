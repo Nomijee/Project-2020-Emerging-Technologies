{
 "cells": [
  {
   "cell_type": "markdown",
   "metadata": {},
   "source": [
    "## Emerging Technologies Project 2020 \n",
    "In this project you must create a web service that uses machine learning to make predictions based on the data set powerproduction available on Moodle. The goal is to\n",
    "produce a model that accurately predicts wind turbine power output from wind speed\n",
    "values, as in the data set. You must then develop a web service that will respond with\n",
    "predicted power values based on speed values sent as HTTP requests."
   ]
  },
  {
   "cell_type": "markdown",
   "metadata": {},
   "source": [
    "The author is Muhammad Noman Junaid (G00351754@gmit.ie).\n",
    "\n",
    "***"
   ]
  },
  {
   "cell_type": "code",
   "execution_count": 1,
   "metadata": {
    "pycharm": {
     "name": "#%%\n"
    }
   },
   "outputs": [],
   "source": [
    "# Import libraries.\n",
    "from tensorflow import keras\n",
    "import numpy as np\n",
    "import matplotlib.pyplot as plt\n",
    "from sklearn.utils import shuffle\n",
    "import pandas as pd\n",
    "from tensorflow.keras.models import Sequential\n",
    "from tensorflow.keras.layers import Dense, Dropout\n",
    "from tensorflow.keras.optimizers import Adam\n",
    "from sklearn.metrics import mean_squared_error,mean_absolute_error\n",
    "\n",
    "# Set data type to float64.\n",
    "keras.backend.set_floatx('float64')"
   ]
  },
  {
   "cell_type": "markdown",
   "metadata": {},
   "source": [
    "## Load & Visualize Dataset\n",
    "For better understanding of data with which we are dealing, we must load and visualize it. It provides us with some insights about the data and helps us in fitting a better Neural Network. We use Pandas to read the dataset and Matplotlib to plot it."
   ]
  },
  {
   "cell_type": "code",
   "execution_count": 2,
   "metadata": {
    "pycharm": {
     "name": "#%%\n"
    }
   },
   "outputs": [
    {
     "data": {
      "image/png": "[encoded data removed]",
      "text/plain": [
       "<Figure size 432x288 with 1 Axes>"
      ]
     },
     "metadata": {
      "needs_background": "light"
     },
     "output_type": "display_data"
    }
   ],
   "source": [
    "# Read data from data.csv into pandas dataframe.\n",
    "df = pd.read_csv('data.csv')\n",
    "X, y = df['speed'], df['power']\n",
    "\n",
    "# Plot data to visualize it.\n",
    "plt.plot(X, y, 'r+')\n",
    "plt.title('Power Production')\n",
    "plt.xlabel('speed')\n",
    "plt.ylabel('power')\n",
    "plt.show()"
   ]
  },
  {
   "cell_type": "markdown",
   "metadata": {},
   "source": [
    "## Shuffle, Split & Transform Dataset Into Train & Test\n",
    "We need to provide training and testing datasets to keras Neural Network, for that we split out dataset into two distributions one for training (80%) and one for testing (20%). To avoid overfitting or learning a pattern, we shuffle the datasets and normalize it."
   ]
  },
  {
   "cell_type": "code",
   "execution_count": 3,
   "metadata": {
    "pycharm": {
     "name": "#%%\n"
    }
   },
   "outputs": [],
   "source": [
    "# Split data into train, test and validation distributions.\n",
    "df = shuffle(df)\n",
    "X_train, y_train = df['speed'][:400], df['power'][:400]\n",
    "X_test, y_test = df['speed'][400:], df['power'][400:]"
   ]
  },
  {
   "cell_type": "markdown",
   "metadata": {
    "pycharm": {
     "name": "#%% md\n"
    }
   },
   "source": [
    "## Create & Fit Model\n",
    "After splitting out data into training and testing sets, we can now develop and train a neural network. We will use a sequential model with three dense layers. The first layer contains 128 neurons and RELU as activation function, second layer contains 256 neurons and RELU as activation function, output layer contains only one neuron. This model also uses dropouts to avoid overfitting."
   ]
  },
  {
   "cell_type": "code",
   "execution_count": 4,
   "metadata": {
    "pycharm": {
     "name": "#%%\n"
    }
   },
   "outputs": [
    {
     "name": "stdout",
     "output_type": "stream",
     "text": [
      "Epoch 1/50\n",
      "13/13 [==============================] - 2s 86ms/step - loss: 3571.8620 - val_loss: 2643.5565\n",
      "Epoch 2/50\n",
      "13/13 [==============================] - 0s 5ms/step - loss: 2618.8179 - val_loss: 1411.7664\n",
      "Epoch 3/50\n",
      "13/13 [==============================] - 0s 5ms/step - loss: 1204.2413 - val_loss: 617.9042\n",
      "Epoch 4/50\n",
      "13/13 [==============================] - 0s 5ms/step - loss: 615.9367 - val_loss: 611.7897\n",
      "Epoch 5/50\n",
      "13/13 [==============================] - 0s 5ms/step - loss: 665.7895 - val_loss: 568.1979\n",
      "Epoch 6/50\n",
      "13/13 [==============================] - 0s 5ms/step - loss: 624.5431 - val_loss: 569.2091\n",
      "Epoch 7/50\n",
      "13/13 [==============================] - 0s 5ms/step - loss: 501.1957 - val_loss: 564.1081\n",
      "Epoch 8/50\n",
      "13/13 [==============================] - 0s 5ms/step - loss: 650.3976 - val_loss: 562.6190\n",
      "Epoch 9/50\n",
      "13/13 [==============================] - 0s 5ms/step - loss: 556.7859 - val_loss: 560.9519\n",
      "Epoch 10/50\n",
      "13/13 [==============================] - 0s 5ms/step - loss: 481.2053 - val_loss: 559.3003\n",
      "Epoch 11/50\n",
      "13/13 [==============================] - 0s 5ms/step - loss: 476.5859 - val_loss: 557.2893\n",
      "Epoch 12/50\n",
      "13/13 [==============================] - 0s 5ms/step - loss: 541.3371 - val_loss: 557.5212\n",
      "Epoch 13/50\n",
      "13/13 [==============================] - 0s 5ms/step - loss: 569.9175 - val_loss: 553.7601\n",
      "Epoch 14/50\n",
      "13/13 [==============================] - 0s 5ms/step - loss: 579.3263 - val_loss: 552.5065\n",
      "Epoch 15/50\n",
      "13/13 [==============================] - 0s 6ms/step - loss: 514.3208 - val_loss: 550.0284\n",
      "Epoch 16/50\n",
      "13/13 [==============================] - 0s 5ms/step - loss: 574.4795 - val_loss: 548.9762\n",
      "Epoch 17/50\n",
      "13/13 [==============================] - 0s 5ms/step - loss: 619.5234 - val_loss: 546.4351\n",
      "Epoch 18/50\n",
      "13/13 [==============================] - 0s 5ms/step - loss: 484.7606 - val_loss: 546.4764\n",
      "Epoch 19/50\n",
      "13/13 [==============================] - 0s 5ms/step - loss: 513.9252 - val_loss: 549.4227\n",
      "Epoch 20/50\n",
      "13/13 [==============================] - 0s 5ms/step - loss: 467.5833 - val_loss: 541.2907\n",
      "Epoch 21/50\n",
      "13/13 [==============================] - 0s 5ms/step - loss: 600.0402 - val_loss: 539.4929\n",
      "Epoch 22/50\n",
      "13/13 [==============================] - 0s 5ms/step - loss: 566.5151 - val_loss: 538.3786\n",
      "Epoch 23/50\n",
      "13/13 [==============================] - 0s 5ms/step - loss: 470.4233 - val_loss: 540.3189\n",
      "Epoch 24/50\n",
      "13/13 [==============================] - 0s 5ms/step - loss: 468.2984 - val_loss: 536.7084\n",
      "Epoch 25/50\n",
      "13/13 [==============================] - 0s 5ms/step - loss: 591.4494 - val_loss: 534.4507\n",
      "Epoch 26/50\n",
      "13/13 [==============================] - 0s 5ms/step - loss: 579.9323 - val_loss: 531.2406\n",
      "Epoch 27/50\n",
      "13/13 [==============================] - 0s 5ms/step - loss: 477.1429 - val_loss: 530.3040\n",
      "Epoch 28/50\n",
      "13/13 [==============================] - 0s 5ms/step - loss: 703.7956 - val_loss: 527.8994\n",
      "Epoch 29/50\n",
      "13/13 [==============================] - 0s 5ms/step - loss: 492.6902 - val_loss: 530.2683\n",
      "Epoch 30/50\n",
      "13/13 [==============================] - 0s 5ms/step - loss: 511.6306 - val_loss: 525.8751\n",
      "Epoch 31/50\n",
      "13/13 [==============================] - 0s 6ms/step - loss: 470.6784 - val_loss: 523.2594\n",
      "Epoch 32/50\n",
      "13/13 [==============================] - 0s 5ms/step - loss: 493.0383 - val_loss: 521.6927\n",
      "Epoch 33/50\n",
      "13/13 [==============================] - 0s 5ms/step - loss: 544.8452 - val_loss: 525.3253\n",
      "Epoch 34/50\n",
      "13/13 [==============================] - 0s 5ms/step - loss: 623.5127 - val_loss: 518.7534\n",
      "Epoch 35/50\n",
      "13/13 [==============================] - 0s 5ms/step - loss: 668.0078 - val_loss: 516.4255\n",
      "Epoch 36/50\n",
      "13/13 [==============================] - 0s 5ms/step - loss: 650.9686 - val_loss: 514.7087\n",
      "Epoch 37/50\n",
      "13/13 [==============================] - 0s 6ms/step - loss: 723.0659 - val_loss: 513.0407\n",
      "Epoch 38/50\n",
      "13/13 [==============================] - 0s 5ms/step - loss: 497.5191 - val_loss: 511.8705\n",
      "Epoch 39/50\n",
      "13/13 [==============================] - 0s 5ms/step - loss: 514.4739 - val_loss: 510.9292\n",
      "Epoch 40/50\n",
      "13/13 [==============================] - 0s 5ms/step - loss: 614.6429 - val_loss: 509.7961\n",
      "Epoch 41/50\n",
      "13/13 [==============================] - 0s 6ms/step - loss: 788.7962 - val_loss: 507.8921\n",
      "Epoch 42/50\n",
      "13/13 [==============================] - 0s 5ms/step - loss: 673.3771 - val_loss: 512.4498\n",
      "Epoch 43/50\n",
      "13/13 [==============================] - 0s 5ms/step - loss: 479.2746 - val_loss: 512.2503\n",
      "Epoch 44/50\n",
      "13/13 [==============================] - 0s 5ms/step - loss: 510.8436 - val_loss: 503.0357\n",
      "Epoch 45/50\n",
      "13/13 [==============================] - 0s 5ms/step - loss: 498.6453 - val_loss: 507.2107\n",
      "Epoch 46/50\n",
      "13/13 [==============================] - 0s 5ms/step - loss: 500.7735 - val_loss: 504.6149\n",
      "Epoch 47/50\n",
      "13/13 [==============================] - 0s 5ms/step - loss: 573.6184 - val_loss: 501.0474\n",
      "Epoch 48/50\n",
      "13/13 [==============================] - 0s 5ms/step - loss: 554.9905 - val_loss: 503.0884\n",
      "Epoch 49/50\n",
      "13/13 [==============================] - 0s 5ms/step - loss: 494.5420 - val_loss: 500.7378\n",
      "Epoch 50/50\n",
      "13/13 [==============================] - 0s 5ms/step - loss: 700.1910 - val_loss: 497.4456\n",
      "Model: \"sequential\"\n",
      "_________________________________________________________________\n",
      "Layer (type)                 Output Shape              Param #   \n",
      "=================================================================\n",
      "dense (Dense)                (None, 128)               256       \n",
      "_________________________________________________________________\n",
      "dropout (Dropout)            (None, 128)               0         \n",
      "_________________________________________________________________\n",
      "dense_1 (Dense)              (None, 256)               33024     \n",
      "_________________________________________________________________\n",
      "dropout_1 (Dropout)          (None, 256)               0         \n",
      "_________________________________________________________________\n",
      "dense_2 (Dense)              (None, 1)                 257       \n",
      "=================================================================\n",
      "Total params: 33,537\n",
      "Trainable params: 33,537\n",
      "Non-trainable params: 0\n",
      "_________________________________________________________________\n"
     ]
    }
   ],
   "source": [
    "# Fit a model to data.\n",
    "model = Sequential()\n",
    "\n",
    "model.add(Dense(128, activation='relu'))\n",
    "model.add(Dropout(0.25))\n",
    "\n",
    "model.add(Dense(256,activation='relu'))\n",
    "model.add(Dropout(0.5))\n",
    "\n",
    "model.add(Dense(1))\n",
    "\n",
    "model.compile(optimizer='adam', loss='mse')\n",
    "\n",
    "model.fit(x=X_train,y=y_train.values,\n",
    "          validation_data=(X_test,y_test.values),\n",
    "          batch_size=32,epochs=50)\n",
    "\n",
    "model.summary()"
   ]
  },
  {
   "cell_type": "markdown",
   "metadata": {
    "pycharm": {
     "name": "#%% md\n"
    }
   },
   "source": [
    "## Visualizing Losses\n",
    "Training and validation loss is very important for any Neural Network. In fact, it is one clue during training that tells us if our model is fitting as expected or not. Keras model has a history attribute which provides a plot for losses."
   ]
  },
  {
   "cell_type": "code",
   "execution_count": 5,
   "metadata": {
    "pycharm": {
     "name": "#%%\n"
    }
   },
   "outputs": [
    {
     "data": {
      "text/plain": [
       "<matplotlib.axes._subplots.AxesSubplot at 0x22b8a4df910>"
      ]
     },
     "execution_count": 5,
     "metadata": {},
     "output_type": "execute_result"
    },
    {
     "data": {
      "image/png": "[encoded data removed]",
      "text/plain": [
       "<Figure size 432x288 with 1 Axes>"
      ]
     },
     "metadata": {
      "needs_background": "light"
     },
     "output_type": "display_data"
    }
   ],
   "source": [
    "losses = pd.DataFrame(model.history.history)\n",
    "losses.plot()"
   ]
  },
  {
   "cell_type": "markdown",
   "metadata": {
    "pycharm": {
     "name": "#%% md\n"
    }
   },
   "source": [
    "## Calculating Errors\n",
    "We calculate mean squared error and mean absolute errors to check the accuracy of our model. In real world we can only minimize errors and cannot reduce them to zero."
   ]
  },
  {
   "cell_type": "code",
   "execution_count": 6,
   "metadata": {},
   "outputs": [
    {
     "name": "stdout",
     "output_type": "stream",
     "text": [
      "15.361894815512334\n",
      "22.30348877169486\n"
     ]
    }
   ],
   "source": [
    "# Calculate mean squared error and mean absolute error.\n",
    "predictions = model.predict(X_test)\n",
    "\n",
    "print(mean_absolute_error(y_test,predictions))\n",
    "print(np.sqrt(mean_squared_error(y_test,predictions)))"
   ]
  },
  {
   "cell_type": "markdown",
   "metadata": {
    "pycharm": {
     "name": "#%% md\n"
    }
   },
   "source": [
    "## Save Model\n",
    "To use this model in a Flask server, we have to save it in .h5 format so that we can load and use it afterwards."
   ]
  },
  {
   "cell_type": "code",
   "execution_count": 8,
   "metadata": {
    "pycharm": {
     "name": "#%%\n"
    }
   },
   "outputs": [],
   "source": [
    "# Save model to use in flask server.\n",
    "model.save('model.h5')"
   ]
  }
 ],
 "metadata": {
  "kernelspec": {
   "display_name": "Python 3",
   "language": "python",
   "name": "python3"
  },
  "language_info": {
   "codemirror_mode": {
    "name": "ipython",
    "version": 3
   },
   "file_extension": ".py",
   "mimetype": "text/x-python",
   "name": "python",
   "nbconvert_exporter": "python",
   "pygments_lexer": "ipython3",
   "version": "3.8.3"
  }
 },
 "nbformat": 4,
 "nbformat_minor": 1
}
